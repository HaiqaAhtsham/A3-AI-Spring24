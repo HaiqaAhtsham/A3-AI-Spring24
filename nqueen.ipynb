{
 "cells": [
  {
   "cell_type": "code",
   "execution_count": 7,
   "metadata": {},
   "outputs": [],
   "source": [
    "from libs.search import *\n",
    "import matplotlib.pyplot as plt\n",
    "from PIL import Image\n",
    "import matplotlib\n",
    "matplotlib.use('TkAgg')"
   ]
  },
  {
   "cell_type": "code",
   "execution_count": 8,
   "metadata": {},
   "outputs": [],
   "source": [
    "\n",
    "def plot_NQueens(solution, fig = None):\n",
    "    n = len(solution)\n",
    "    board = np.array([2 * int((i + j) % 2) for j in range(n) for i in range(n)]).reshape((n, n))\n",
    "    im = Image.open('images/queen_s.png')\n",
    "    height = im.size[1]\n",
    "    # im = im.resize((int(100 / n), int(100 / n)))\n",
    "    im = np.array(im).astype(float) / 255\n",
    "    fig = plt.figure(figsize=(7, 7)) if fig is None else fig\n",
    "    ax = fig.add_subplot(111)\n",
    "    ax.set_title('{} Queens'.format(n))\n",
    "    plt.imshow(board, cmap='binary', interpolation='nearest')\n",
    "    # NQueensCSP gives a solution as a dictionary\n",
    "    if isinstance(solution, dict):\n",
    "        for (k, v) in solution.items():\n",
    "            newax = fig.add_axes([0.064 + (k * 0.112), 0.062 + ((n - v) * 0.112), 0.1, 0.1], zorder=1)\n",
    "            newax.imshow(im)\n",
    "            newax.axis('off')\n",
    "    # NQueensProblem gives a solution as a list\n",
    "    elif isinstance(solution, list):\n",
    "        for (k, v) in enumerate(solution):\n",
    "            l = 7/n\n",
    "            newax = fig.add_axes([0.064 + (k * 0.896/n),((n - v) * 0.896/n) - 0.5/n + n*0.002, 0.8/n, 0.8/n], zorder=1)\n",
    "            newax.imshow(im)\n",
    "            newax.axis('off')\n",
    "    fig.tight_layout()\n",
    "    plt.show()\n",
    "    # return fig\n",
    "    "
   ]
  },
  {
   "cell_type": "code",
   "execution_count": 9,
   "metadata": {},
   "outputs": [
    {
     "name": "stderr",
     "output_type": "stream",
     "text": [
      "C:\\Users\\mcs\\AppData\\Local\\Temp\\ipykernel_21404\\2076050087.py:25: UserWarning: This figure includes Axes that are not compatible with tight_layout, so results might be incorrect.\n",
      "  fig.tight_layout()\n"
     ]
    }
   ],
   "source": [
    "\"\"\"\n",
    "Use this block to do your assignment\n",
    "\"\"\"\n",
    "initial_state = [1,2,3,5,6,7,0,1,1] #do not use this state. Initialize random position to each queen.\n",
    "nqp = NQueensProblem(len(initial_state)) #give number of queens as an argument.\n",
    "plot_NQueens(initial_state) # to print the state everytime something changes. You can give an array of position of each queen."
   ]
  }
 ],
 "metadata": {
  "kernelspec": {
   "display_name": "Python 3",
   "language": "python",
   "name": "python3"
  },
  "language_info": {
   "codemirror_mode": {
    "name": "ipython",
    "version": 3
   },
   "file_extension": ".py",
   "mimetype": "text/x-python",
   "name": "python",
   "nbconvert_exporter": "python",
   "pygments_lexer": "ipython3",
   "version": "3.11.5"
  }
 },
 "nbformat": 4,
 "nbformat_minor": 2
}
